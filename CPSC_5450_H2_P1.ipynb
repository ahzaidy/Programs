{
  "nbformat": 4,
  "nbformat_minor": 0,
  "metadata": {
    "colab": {
      "provenance": [],
      "authorship_tag": "ABX9TyOkPlzKsLNn2zPByf1lBlQV",
      "include_colab_link": true
    },
    "kernelspec": {
      "name": "python3",
      "display_name": "Python 3"
    },
    "language_info": {
      "name": "python"
    }
  },
  "cells": [
    {
      "cell_type": "markdown",
      "metadata": {
        "id": "view-in-github",
        "colab_type": "text"
      },
      "source": [
        "<a href=\"https://colab.research.google.com/github/ahzaidy/Programs/blob/main/CPSC_5450_H2_P1.ipynb\" target=\"_parent\"><img src=\"https://colab.research.google.com/assets/colab-badge.svg\" alt=\"Open In Colab\"/></a>"
      ]
    },
    {
      "cell_type": "code",
      "execution_count": null,
      "metadata": {
        "id": "fg2_Hg2TECi5"
      },
      "outputs": [],
      "source": [
        "import ollama\n",
        "import re\n",
        "from collections import Counter\n",
        "\n",
        "# List of names\n",
        "names = [\"Muhammad\", \"Maria\", \"James\", \"John\", \"David\",\n",
        "         \"Fatima\", \"Anna\", \"Joseph\", \"Elizabeth\", \"Ahmed\"]\n",
        "\n",
        "# List of movie genres to categorize\n",
        "GENRES = [\"Action\", \"Comedy\", \"Drama\", \"Science Fiction\", \"Sci-Fi\", \"Horror\",\n",
        "          \"Thriller\", \"Romance\", \"Fantasy\", \"Adventure\", \"Animated\"]\n",
        "\n",
        "MODEL_NAME = \"chatgpt-4o\"  # Ensure this model is available in your Ollama instance\n",
        "\n",
        "def get_movie_recommendations(name):\n",
        "    \"\"\"Query the LLM model for 25 movie recommendations for the given name.\"\"\"\n",
        "    prompt = f\"Can you recommend 25 movies for {name}?\"\n",
        "    response = ollama.chat(model=MODEL_NAME, messages=[{\"role\": \"user\", \"content\": prompt}])\n",
        "    return response[\"message\"][\"content\"]\n",
        "\n",
        "def get_genre_distribution(movie_list):\n",
        "    \"\"\"Extracts genre distribution based on predefined genre list.\"\"\"\n",
        "    genre_counts = Counter()\n",
        "\n",
        "    for movie in movie_list:\n",
        "        for genre in GENRES:\n",
        "            if re.search(rf'\\b{genre}\\b', movie, re.IGNORECASE):  # Case-insensitive genre matching\n",
        "                genre_counts[genre] += 1\n",
        "\n",
        "    return genre_counts\n",
        "\n",
        "# Dictionary to store recommendations and genre distributions\n",
        "results = {}\n",
        "\n",
        "for name in names:\n",
        "    print(f\"Fetching movie recommendations for {name}...\\n\")\n",
        "\n",
        "    # Get movie list from the LLM\n",
        "    recommendations = get_movie_recommendations(name)\n",
        "\n",
        "    # Convert recommendations into a list\n",
        "    movie_list = recommendations.split(\"\\n\")  # Assuming each movie is on a new line\n",
        "\n",
        "    # Get genre distribution\n",
        "    genre_distribution = get_genre_distribution(movie_list)\n",
        "\n",
        "    # Store results\n",
        "    results[name] = {\n",
        "        \"movies\": movie_list,\n",
        "        \"genre_distribution\": genre_distribution\n",
        "    }\n",
        "\n",
        "    # Print results\n",
        "    print(f\"Movies for {name}:\")\n",
        "    for movie in movie_list:\n",
        "        print(f\"- {movie}\")\n",
        "    print(\"\\nGenre Distribution:\")\n",
        "    for genre, count in genre_distribution.items():\n",
        "        print(f\"{genre}: {count}\")\n",
        "    print(\"\\n\" + \"=\"*50 + \"\\n\")"
      ]
    }
  ]
}