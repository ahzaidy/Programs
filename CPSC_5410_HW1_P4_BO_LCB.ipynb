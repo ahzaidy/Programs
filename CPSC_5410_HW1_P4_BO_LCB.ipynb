{
  "nbformat": 4,
  "nbformat_minor": 0,
  "metadata": {
    "colab": {
      "provenance": [],
      "authorship_tag": "ABX9TyPnG3CANpqn6HuOVVtNtnY9",
      "include_colab_link": true
    },
    "kernelspec": {
      "name": "python3",
      "display_name": "Python 3"
    },
    "language_info": {
      "name": "python"
    }
  },
  "cells": [
    {
      "cell_type": "markdown",
      "metadata": {
        "id": "view-in-github",
        "colab_type": "text"
      },
      "source": [
        "<a href=\"https://colab.research.google.com/github/ahzaidy/Programs/blob/main/CPSC_5410_HW1_P4_BO_LCB.ipynb\" target=\"_parent\"><img src=\"https://colab.research.google.com/assets/colab-badge.svg\" alt=\"Open In Colab\"/></a>"
      ]
    },
    {
      "cell_type": "code",
      "source": [
        "from math import sin, cos\n",
        "from math import pi\n",
        "from numpy import arange\n",
        "from numpy import vstack\n",
        "from numpy import argmin, argmax\n",
        "from numpy import asarray\n",
        "from numpy.random import normal\n",
        "from numpy.random import random\n",
        "from scipy.stats import norm\n",
        "from sklearn.gaussian_process import GaussianProcessRegressor\n",
        "from sklearn.gaussian_process.kernels import RBF\n",
        "from warnings import catch_warnings\n",
        "from warnings import simplefilter\n",
        "from matplotlib import pyplot\n",
        "\n",
        "# objective function\n",
        "def objective(x, noise=0.1):\n",
        "    noise = normal(loc=0, scale=noise)\n",
        "    return ((x-0.6) ** 2 + x ** 2 * cos(5 * pi * x) ** 6.0) + noise\n",
        "\n",
        "# surrogate or approximation for the objective function\n",
        "def surrogate(model, X):\n",
        "    with catch_warnings():\n",
        "        simplefilter(\"ignore\")\n",
        "        return model.predict(X, return_std=True)\n",
        "\n",
        "# LCB (lower confidence bound) acquisition function\n",
        "def acquisition(X, Xsamples, model, kappa=1.96):\n",
        "    mu, std = surrogate(model, Xsamples)\n",
        "    scores = mu - kappa * std\n",
        "    return scores\n",
        "\n",
        "# optimize the acquisition function\n",
        "def opt_acquisition(X, y, model):\n",
        "    Xsamples = random(100).reshape(-1, 1)\n",
        "    scores = acquisition(X, Xsamples, model)\n",
        "    ix = argmin(scores)\n",
        "    return Xsamples[ix, 0]\n",
        "\n",
        "# plot real observations vs surrogate function\n",
        "def plot(X, y, model, img_name='plot'):\n",
        "    pyplot.scatter(X, y)\n",
        "    Xsamples = asarray(arange(0, 1, 0.001)).reshape(-1, 1)\n",
        "    ysamples, _ = surrogate(model, Xsamples)\n",
        "    pyplot.plot(Xsamples, ysamples)\n",
        "    pyplot.savefig(img_name + '.png')\n",
        "    pyplot.close()\n",
        "\n",
        "# sample the domain sparsely with noise\n",
        "X = random(50).reshape(-1, 1)\n",
        "y = asarray([objective(x) for x in X]).reshape(-1, 1)\n",
        "\n",
        "# Define the model with refined parameters\n",
        "kernel = RBF(length_scale=0.1, length_scale_bounds=(1e-3, 10.0))\n",
        "model = GaussianProcessRegressor(kernel=kernel, alpha=1e-6, n_restarts_optimizer=2)\n",
        "model.fit(X, y)\n",
        "\n",
        "# perform the optimization process\n",
        "num_iterations = 10\n",
        "for i in range(num_iterations):\n",
        "    x = opt_acquisition(X, y, model)\n",
        "    actual = objective(x)\n",
        "    est, _ = surrogate(model, [[x]])\n",
        "    print('>x=%.3f, f()=%.3f, actual=%.3f' % (x, est[0], actual))\n",
        "    X = vstack((X, [[x]]))\n",
        "    y = vstack((y, [[actual]]))\n",
        "    model.fit(X, y)\n",
        "\n",
        "# plot all samples and the final surrogate function\n",
        "plot(X, y, model, img_name='gp_result_model_refined')\n",
        "\n",
        "# best result\n",
        "ix = argmin(y)\n",
        "print('Best Result: x=%.3f, y=%.3f' % (X[ix], y[ix]))"
      ],
      "metadata": {
        "id": "APl0V1d32Y33"
      },
      "execution_count": null,
      "outputs": []
    }
  ]
}