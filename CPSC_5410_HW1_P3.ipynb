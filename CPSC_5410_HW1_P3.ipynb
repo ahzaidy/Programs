{
  "nbformat": 4,
  "nbformat_minor": 0,
  "metadata": {
    "colab": {
      "provenance": [],
      "authorship_tag": "ABX9TyOEOCbV7jmlqA+Y9On+flig",
      "include_colab_link": true
    },
    "kernelspec": {
      "name": "python3",
      "display_name": "Python 3"
    },
    "language_info": {
      "name": "python"
    }
  },
  "cells": [
    {
      "cell_type": "markdown",
      "metadata": {
        "id": "view-in-github",
        "colab_type": "text"
      },
      "source": [
        "<a href=\"https://colab.research.google.com/github/ahzaidy/Programs/blob/main/CPSC_5410_HW1_P3.ipynb\" target=\"_parent\"><img src=\"https://colab.research.google.com/assets/colab-badge.svg\" alt=\"Open In Colab\"/></a>"
      ]
    },
    {
      "cell_type": "code",
      "source": [
        "import pandas as pd\n",
        "import matplotlib.pyplot as plt\n",
        "from sklearn.model_selection import train_test_split\n",
        "from sklearn.gaussian_process import GaussianProcessRegressor\n",
        "from sklearn.gaussian_process.kernels import RBF, ConstantKernel as C\n",
        "\n",
        "# Load the dataset from file\n",
        "df = pd.read_csv('LibSVM-space_ga_scale.txt', delim_whitespace=True, header=None)\n",
        "\n",
        "# Separate target and features\n",
        "y = df.iloc[:, 0]    # First column as the target\n",
        "X = df.iloc[:, 1:]   # All other columns as features\n",
        "\n",
        "# Split the dataset\n",
        "X_train, X_test, y_train, y_test = train_test_split(X, y, train_size=150, test_size=30, random_state=42)\n",
        "\n",
        "# Define the kernel: ConstantKernel * RBF\n",
        "kernel = C(1.0, (1e-3, 1e3)) * RBF(length_scale=1.0, length_scale_bounds=(1e-2, 1e2))\n",
        "\n",
        "# Create and train the Gaussian Process Regressor\n",
        "gpr = GaussianProcessRegressor(kernel=kernel, n_restarts_optimizer=10, alpha=0.1)\n",
        "gpr.fit(X_train, y_train)\n",
        "\n",
        "# Make predictions\n",
        "y_pred, sigma = gpr.predict(X_test, return_std=True)\n",
        "\n",
        "# Convert predictions to DataFrame for easy handling\n",
        "test_results = pd.DataFrame({\n",
        "    'Feature_1': X_test.iloc[:, 0],\n",
        "    'Feature_2': X_test.iloc[:, 1],\n",
        "    'True_Values': y_test,\n",
        "    'Predicted_Values': y_pred,\n",
        "    'Sigma': sigma\n",
        "})\n",
        "\n",
        "# Plot the results for features j=1 and j=2\n",
        "plt.figure(figsize=(14, 7))\n",
        "\n",
        "# Feature j=1\n",
        "plt.subplot(1, 2, 1)\n",
        "plt.errorbar(test_results['Feature_1'], test_results['True_Values'], yerr=test_results['Sigma'], fmt='o', label='Test Data')\n",
        "plt.scatter(test_results['Feature_1'], test_results['Predicted_Values'], color='r', label='Predictions')\n",
        "plt.fill_between(test_results['Feature_1'], test_results['Predicted_Values'] - 1.96 * test_results['Sigma'],\n",
        "                 test_results['Predicted_Values'] + 1.96 * test_results['Sigma'], alpha=0.2, color='k', label='95% Confidence Interval')\n",
        "plt.title('Feature j=1')\n",
        "plt.xlabel('Feature 1')\n",
        "plt.ylabel('Target')\n",
        "plt.legend()\n",
        "\n",
        "# Feature j=2\n",
        "plt.subplot(1, 2, 2)\n",
        "plt.errorbar(test_results['Feature_2'], test_results['True_Values'], yerr=test_results['Sigma'], fmt='o', label='Test Data')\n",
        "plt.scatter(test_results['Feature_2'], test_results['Predicted_Values'], color='r', label='Predictions')\n",
        "plt.fill_between(test_results['Feature_2'], test_results['Predicted_Values'] - 1.96 * test_results['Sigma'],\n",
        "                 test_results['Predicted_Values'] + 1.96 * test_results['Sigma'], alpha=0.2, color='k', label='95% Confidence Interval')\n",
        "plt.title('Feature j=2')\n",
        "plt.xlabel('Feature 2')\n",
        "plt.ylabel('Target')\n",
        "plt.legend()\n",
        "\n",
        "plt.tight_layout()\n",
        "plt.show()"
      ],
      "metadata": {
        "id": "AX_ypSH0luYi"
      },
      "execution_count": null,
      "outputs": []
    }
  ]
}